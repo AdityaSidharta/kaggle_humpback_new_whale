{
 "cells": [
  {
   "cell_type": "code",
   "execution_count": 2,
   "metadata": {},
   "outputs": [
    {
     "name": "stdout",
     "output_type": "stream",
     "text": [
      "The autoreload extension is already loaded. To reload it, use:\n",
      "  %reload_ext autoreload\n"
     ]
    }
   ],
   "source": [
    "%load_ext autoreload\n",
    "%autoreload 2"
   ]
  },
  {
   "cell_type": "code",
   "execution_count": 3,
   "metadata": {},
   "outputs": [
    {
     "name": "stdout",
     "output_type": "stream",
     "text": [
      "env: PYTHONPATH=/home/adityasidharta/git/kaggle_humpback_new_whale\n",
      "env: PROJECT_PATH=/home/adityasidharta/git/kaggle_humpback_new_whale\n",
      "/home/adityasidharta/git/kaggle_humpback_new_whale\n"
     ]
    }
   ],
   "source": [
    "%env PYTHONPATH = /home/adityasidharta/git/kaggle_humpback_new_whale\n",
    "%env PROJECT_PATH = /home/adityasidharta/git/kaggle_humpback_new_whale\n",
    "%cd /home/adityasidharta/git/kaggle_humpback_new_whale"
   ]
  },
  {
   "cell_type": "code",
   "execution_count": 79,
   "metadata": {},
   "outputs": [],
   "source": [
    "%matplotlib inline\n",
    "import pandas as pd\n",
    "import numpy as np\n",
    "import matplotlib.pyplot as plt\n",
    "import torch\n",
    "import torch.nn as nn\n",
    "import torch.optim as optim\n",
    "import torch.nn.functional as F\n",
    "from torch.utils.data import DataLoader\n",
    "import os\n",
    "from model.train import fit_model\n",
    "from sklearn.externals import joblib\n",
    "from utils.envs import *\n",
    "from utils.config import *\n",
    "from model.functions import loss_fn, metric_fn, pred_fn\n",
    "from utils.common import get_label, remove_new_whale, create_label\n",
    "from model.arch import se_resnext101\n",
    "from model.dataset import train_transform, test_transform, TestDataset, TrainDataset\n",
    "from sklearn.model_selection import train_test_split"
   ]
  },
  {
   "cell_type": "code",
   "execution_count": 5,
   "metadata": {},
   "outputs": [],
   "source": [
    "train_df = pd.read_csv(train_repo)\n",
    "train_df = remove_new_whale(train_df)\n",
    "dev_df, val_df = train_test_split(train_df, test_size = 0.20)"
   ]
  },
  {
   "cell_type": "code",
   "execution_count": 6,
   "metadata": {},
   "outputs": [
    {
     "data": {
      "text/plain": [
       "['/home/adityasidharta/git/kaggle_humpback_new_whale/output/artifacts/ohe_model.pkl']"
      ]
     },
     "execution_count": 6,
     "metadata": {},
     "output_type": "execute_result"
    }
   ],
   "source": [
    "ohe_model, train_image_label, train_ohe_label = create_label(train_df)\n",
    "joblib.dump(ohe_model, os.path.join(artifacts_path, 'ohe_model.pkl'))"
   ]
  },
  {
   "cell_type": "code",
   "execution_count": 7,
   "metadata": {},
   "outputs": [],
   "source": [
    "dev_image_label, dev_ohe_label = get_label(dev_df, ohe_model)\n",
    "val_image_label, val_ohe_label = get_label(val_df, ohe_model)\n",
    "test_image_label = [x for x in os.listdir(test_path) if x.endswith('.jpg')]"
   ]
  },
  {
   "cell_type": "code",
   "execution_count": 8,
   "metadata": {},
   "outputs": [],
   "source": [
    "dev_dataset = TrainDataset(dev_image_label, dev_ohe_label, train_path, train_transform, DEVICE)\n",
    "val_dataset = TrainDataset(val_image_label, val_ohe_label, train_path, test_transform, DEVICE)\n",
    "test_dataset = TestDataset(test_image_label, test_path, test_transform, DEVICE)"
   ]
  },
  {
   "cell_type": "code",
   "execution_count": 9,
   "metadata": {},
   "outputs": [],
   "source": [
    "dev_dataloader = DataLoader(dev_dataset, batch_size = 2, shuffle = True, num_workers = 0)\n",
    "val_dataloader = DataLoader(val_dataset, batch_size = 2, shuffle = False, num_workers = 0)\n",
    "test_dataloader = DataLoader(test_dataset, batch_size = 2, shuffle = False, num_workers = 0)"
   ]
  },
  {
   "cell_type": "code",
   "execution_count": 78,
   "metadata": {},
   "outputs": [],
   "source": [
    "N_CLASSES = 5004\n",
    "model = se_resnext101(n_classes=N_CLASSES, pretrained = True, device = DEVICE).cuda()\n",
    "n_epoch = 10\n",
    "dev_dataloader = dev_dataloader\n",
    "optimizer = optim.Adam(model.parameters(), lr=0.0005)\n",
    "criterion = nn.BCEWithLogitsLoss()"
   ]
  },
  {
   "cell_type": "code",
   "execution_count": null,
   "metadata": {},
   "outputs": [
    {
     "data": {
      "application/vnd.jupyter.widget-view+json": {
       "model_id": "19e931abc6634c768f2f24a3c7806c7d",
       "version_major": 2,
       "version_minor": 0
      },
      "text/plain": [
       "HBox(children=(IntProgress(value=0, max=10), HTML(value='')))"
      ]
     },
     "metadata": {},
     "output_type": "display_data"
    },
    {
     "data": {
      "application/vnd.jupyter.widget-view+json": {
       "model_id": "b4cf67c5f0264114881ee204cff48de8",
       "version_major": 2,
       "version_minor": 0
      },
      "text/plain": [
       "HBox(children=(IntProgress(value=0, max=6279), HTML(value='')))"
      ]
     },
     "metadata": {},
     "output_type": "display_data"
    }
   ],
   "source": [
    "fit_model(\n",
    "    model,\n",
    "    n_epoch,\n",
    "    dev_dataloader,\n",
    "    optimizer,\n",
    "    criterion,\n",
    "    loss_fn,\n",
    "    metric_fn,\n",
    "    val_dataloader=val_dataloader,\n",
    "    checkpoint=True,\n",
    "    model_filename=\"pytorch\",\n",
    ")"
   ]
  },
  {
   "cell_type": "code",
   "execution_count": null,
   "metadata": {},
   "outputs": [],
   "source": []
  }
 ],
 "metadata": {
  "kernelspec": {
   "display_name": "kaggle_humpback_new_whale",
   "language": "python",
   "name": "kaggle_humpback_new_whale"
  },
  "language_info": {
   "codemirror_mode": {
    "name": "ipython",
    "version": 3
   },
   "file_extension": ".py",
   "mimetype": "text/x-python",
   "name": "python",
   "nbconvert_exporter": "python",
   "pygments_lexer": "ipython3",
   "version": "3.6.7"
  }
 },
 "nbformat": 4,
 "nbformat_minor": 2
}
