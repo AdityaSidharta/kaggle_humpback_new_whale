{
 "cells": [
  {
   "cell_type": "code",
   "execution_count": null,
   "metadata": {},
   "outputs": [],
   "source": [
    "%load_ext autoreload\n",
    "%autoreload 2"
   ]
  },
  {
   "cell_type": "code",
   "execution_count": null,
   "metadata": {},
   "outputs": [],
   "source": [
    "%env PYTHONPATH = /home/adityasidharta/git/kaggle_humpback_new_whale\n",
    "%env PROJECT_PATH = /home/adityasidharta/git/kaggle_humpback_new_whale\n",
    "%cd /home/adityasidharta/git/kaggle_humpback_new_whale"
   ]
  },
  {
   "cell_type": "code",
   "execution_count": null,
   "metadata": {},
   "outputs": [],
   "source": [
    "%matplotlib inline\n",
    "import datetime\n",
    "import time\n",
    "import pandas as pd\n",
    "import numpy as np\n",
    "import matplotlib.pyplot as plt\n",
    "import torch\n",
    "import torch.nn as nn\n",
    "import torch.optim as optim\n",
    "import torch.nn.functional as F\n",
    "from torch.utils.data import DataLoader\n",
    "import os\n",
    "from model.train import fit_model\n",
    "from sklearn.externals import joblib\n",
    "from utils.envs import *\n",
    "from utils.config import *\n",
    "from model.validation import validate_model, new_whale_threshold\n",
    "from torch.optim.lr_scheduler import ReduceLROnPlateau\n",
    "from model.test import predict_model\n",
    "from model.functions import loss_fn, metric_fn, pred_fn\n",
    "from utils.common import get_label, remove_new_whale, create_label, create_kaggle_submission, get_categories\n",
    "from model.arch import se_resnext101\n",
    "from model.dataset import train_transform, test_transform, TestDataset, TrainDataset\n",
    "from sklearn.model_selection import train_test_split"
   ]
  },
  {
   "cell_type": "code",
   "execution_count": null,
   "metadata": {},
   "outputs": [],
   "source": [
    "torch.set_num_threads(12)"
   ]
  },
  {
   "cell_type": "code",
   "execution_count": null,
   "metadata": {},
   "outputs": [],
   "source": [
    "train_df = pd.read_csv(train_repo)\n",
    "categories = get_categories(train_df)\n",
    "dev_df, val_df = train_test_split(train_df, test_size = 0.20)\n",
    "dev_df = remove_new_whale(dev_df)"
   ]
  },
  {
   "cell_type": "code",
   "execution_count": null,
   "metadata": {},
   "outputs": [],
   "source": [
    "ohe_model, train_image_label, train_ohe_label = create_label(train_df, categories)\n",
    "joblib.dump(ohe_model, os.path.join(artifacts_path, 'ohe_model.pkl'))"
   ]
  },
  {
   "cell_type": "code",
   "execution_count": null,
   "metadata": {},
   "outputs": [],
   "source": [
    "dev_image_label, dev_ohe_label = get_label(dev_df, ohe_model)\n",
    "val_image_label, val_ohe_label = get_label(val_df, ohe_model)\n",
    "test_image_label = [x for x in os.listdir(test_path) if x.endswith('.jpg')]"
   ]
  },
  {
   "cell_type": "code",
   "execution_count": null,
   "metadata": {},
   "outputs": [],
   "source": [
    "dev_dataset = TrainDataset(dev_image_label, dev_ohe_label, train_path, train_transform, DEVICE)\n",
    "val_dataset = TrainDataset(val_image_label, val_ohe_label, train_path, test_transform, DEVICE)\n",
    "test_dataset = TestDataset(test_image_label, test_path, test_transform, DEVICE)"
   ]
  },
  {
   "cell_type": "code",
   "execution_count": null,
   "metadata": {},
   "outputs": [],
   "source": [
    "dev_dataloader = DataLoader(dev_dataset, batch_size = 16, shuffle = True, num_workers = 0)\n",
    "val_dataloader = DataLoader(val_dataset, batch_size = 16, shuffle = False, num_workers = 0)\n",
    "test_dataloader = DataLoader(test_dataset, batch_size = 16, shuffle = False, num_workers = 0)"
   ]
  },
  {
   "cell_type": "code",
   "execution_count": null,
   "metadata": {},
   "outputs": [],
   "source": [
    "N_CLASSES = 5005\n",
    "model = se_resnext101(n_classes=N_CLASSES, pretrained = True, device = DEVICE).cuda()\n",
    "n_epoch = 60\n",
    "dev_dataloader = dev_dataloader\n",
    "optimizer = optim.Adam(model.parameters(), lr=0.005)\n",
    "criterion = nn.BCEWithLogitsLoss()\n",
    "scheduler = ReduceLROnPlateau(optimizer, 'min', patience=5, factor=0.5)"
   ]
  },
  {
   "cell_type": "code",
   "execution_count": null,
   "metadata": {},
   "outputs": [],
   "source": [
    "model = fit_model(\n",
    "    model,\n",
    "    n_epoch,\n",
    "    dev_dataloader,\n",
    "    optimizer,\n",
    "    criterion,\n",
    "    loss_fn,\n",
    "    metric_fn,\n",
    "    val_dataloader=val_dataloader,\n",
    "    checkpoint=True,\n",
    "    model_filename=\"pytorch\",\n",
    ")"
   ]
  },
  {
   "cell_type": "code",
   "execution_count": null,
   "metadata": {},
   "outputs": [],
   "source": [
    "total_loss, total_metric = validate_model(model, criterion, loss_fn, metric_fn, val_dataloader)\n",
    "print(\"Total Loss : {}\".format(total_loss))\n",
    "print(\"Total Metric : {}\".format(total_metric))"
   ]
  },
  {
   "cell_type": "code",
   "execution_count": null,
   "metadata": {
    "scrolled": true
   },
   "outputs": [],
   "source": [
    "threshold_df = new_whale_threshold(0.01, 1.0, 0.01, model, pred_proba_fn, val_dataloader)"
   ]
  },
  {
   "cell_type": "code",
   "execution_count": null,
   "metadata": {},
   "outputs": [],
   "source": [
    "threshold_df.to_csv(os.path.join(artifacts_path, 'threshold_{}.csv'.format(datetime.datetime.now().strftime('%Y%m%d-%H%M'))), index=False)"
   ]
  },
  {
   "cell_type": "code",
   "execution_count": null,
   "metadata": {
    "scrolled": false
   },
   "outputs": [],
   "source": [
    "result = predict_model(model, test_dataloader, pred_fn, threshold=0.50)"
   ]
  },
  {
   "cell_type": "code",
   "execution_count": null,
   "metadata": {},
   "outputs": [],
   "source": [
    "result_df = create_kaggle_submission(test_image_label, result, ohe_model)"
   ]
  },
  {
   "cell_type": "code",
   "execution_count": null,
   "metadata": {},
   "outputs": [],
   "source": [
    "result_df.to_csv(os.path.join(result_path, 'submission_{}.csv'.format(datetime.datetime.now().strftime('%Y%m%d-%H%M'))), index=False)"
   ]
  }
 ],
 "metadata": {
  "kernelspec": {
   "display_name": "kaggle_humpback_new_whale",
   "language": "python",
   "name": "kaggle_humpback_new_whale"
  },
  "language_info": {
   "codemirror_mode": {
    "name": "ipython",
    "version": 3
   },
   "file_extension": ".py",
   "mimetype": "text/x-python",
   "name": "python",
   "nbconvert_exporter": "python",
   "pygments_lexer": "ipython3",
   "version": "3.6.7"
  }
 },
 "nbformat": 4,
 "nbformat_minor": 2
}
