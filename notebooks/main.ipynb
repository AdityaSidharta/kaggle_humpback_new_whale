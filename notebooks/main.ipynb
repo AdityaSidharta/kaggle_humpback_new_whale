{
 "cells": [
  {
   "cell_type": "code",
   "execution_count": 1,
   "metadata": {},
   "outputs": [],
   "source": [
    "%load_ext autoreload\n",
    "%autoreload 2"
   ]
  },
  {
   "cell_type": "code",
   "execution_count": 9,
   "metadata": {},
   "outputs": [
    {
     "name": "stdout",
     "output_type": "stream",
     "text": [
      "env: PYTHONPATH=/mnt/nvme0n1p3/kaggle_humpback_new_whale\n",
      "env: PROJECT_PATH=/mnt/nvme0n1p3/kaggle_humpback_new_whale\n",
      "/mnt/nvme0n1p3/kaggle_humpback_new_whale\n"
     ]
    }
   ],
   "source": [
    "%env PYTHONPATH = /mnt/nvme0n1p3/kaggle_humpback_new_whale\n",
    "%env PROJECT_PATH = /mnt/nvme0n1p3/kaggle_humpback_new_whale\n",
    "%cd /mnt/nvme0n1p3/kaggle_humpback_new_whale"
   ]
  },
  {
   "cell_type": "code",
   "execution_count": 38,
   "metadata": {},
   "outputs": [],
   "source": [
    "%matplotlib inline\n",
    "import pandas as pd\n",
    "import numpy as np\n",
    "import matplotlib.pyplot as plt\n",
    "import torch\n",
    "import torch.nn as nn\n",
    "from torch.utils.data import DataLoader\n",
    "import os\n",
    "from sklearn.externals import joblib\n",
    "from utils.envs import *\n",
    "from utils.config import *\n",
    "from utils.common import get_label, remove_new_whale, create_label\n",
    "from model.arch import se_resnext101\n",
    "from model.dataset import train_transform, test_transform, TestDataset, TrainDataset\n",
    "from sklearn.model_selection import train_test_split"
   ]
  },
  {
   "cell_type": "code",
   "execution_count": 39,
   "metadata": {},
   "outputs": [],
   "source": [
    "train_df = pd.read_csv(train_repo)\n",
    "train_df = remove_new_whale(train_df)\n",
    "dev_df, val_df = train_test_split(train_df, test_size = 0.20)"
   ]
  },
  {
   "cell_type": "code",
   "execution_count": 40,
   "metadata": {},
   "outputs": [
    {
     "data": {
      "text/plain": [
       "['/home/aditya/extrahd/kaggle_humpback_new_whale/output/artifacts/ohe_model.pkl']"
      ]
     },
     "execution_count": 40,
     "metadata": {},
     "output_type": "execute_result"
    }
   ],
   "source": [
    "ohe_model, train_image_label, train_ohe_label = create_label(train_df)\n",
    "joblib.dump(ohe_model, os.path.join(artifacts_path, 'ohe_model.pkl'))"
   ]
  },
  {
   "cell_type": "code",
   "execution_count": 44,
   "metadata": {},
   "outputs": [],
   "source": [
    "dev_image_label, dev_ohe_label = get_label(dev_df, ohe_model)\n",
    "val_image_label, val_ohe_label = get_label(val_df, ohe_model)\n",
    "test_image_label = [x for x in os.listdir(test_path) if x.endswith('.jpg')]"
   ]
  },
  {
   "cell_type": "code",
   "execution_count": 47,
   "metadata": {},
   "outputs": [],
   "source": [
    "dev_dataset = TrainDataset(dev_image_label, dev_ohe_label, train_path, train_transform, DEVICE)\n",
    "val_dataset = TrainDataset(val_image_label, train_path, test_transform, DEVICE)\n",
    "test_dataset = TestDataset(test_image_label, test_path, test_transform, DEVICE)"
   ]
  },
  {
   "cell_type": "code",
   "execution_count": 19,
   "metadata": {},
   "outputs": [],
   "source": [
    "dev_loader = DataLoader(dev_dataset, batch_size = 32, shuffle = True, num_workers = 0)\n",
    "val_loader = DataLoader(val_dataset, batch_size = 32, shuffle = False, num_workers = 0)\n",
    "test_loader = DataLoader(test_dataset, batch_size = 32, shuffle = False, num_workers = 0)"
   ]
  },
  {
   "cell_type": "code",
   "execution_count": 24,
   "metadata": {},
   "outputs": [
    {
     "name": "stderr",
     "output_type": "stream",
     "text": [
      "Downloading: \"http://data.lip6.fr/cadene/pretrainedmodels/se_resnext101_32x4d-3b2fe3d8.pth\" to /home/aditya/.torch/models/se_resnext101_32x4d-3b2fe3d8.pth\n",
      "100%|██████████| 196466866/196466866 [00:18<00:00, 10640329.05it/s]\n"
     ]
    }
   ],
   "source": [
    "model = se_resnext101(n_classes=N_CLASSES, pretrained = True)\n",
    "n_epoch = 10\n",
    "dev_dataloader = train_loader\n",
    "criterion = nn.BCEWithLogitsLoss()\n",
    "optimizer = optim.Adam(model.parameters(), lr=0.0005)\n",
    "scheduler = lr_scheduler.StepLR(optimizer, step_size=3, gamma=0.1)"
   ]
  },
  {
   "cell_type": "code",
   "execution_count": null,
   "metadata": {},
   "outputs": [],
   "source": []
  }
 ],
 "metadata": {
  "kernelspec": {
   "display_name": "kaggle_humpback_new_whale",
   "language": "python",
   "name": "kaggle_humpback_new_whale"
  },
  "language_info": {
   "codemirror_mode": {
    "name": "ipython",
    "version": 3
   },
   "file_extension": ".py",
   "mimetype": "text/x-python",
   "name": "python",
   "nbconvert_exporter": "python",
   "pygments_lexer": "ipython3",
   "version": "3.6.7"
  }
 },
 "nbformat": 4,
 "nbformat_minor": 2
}
