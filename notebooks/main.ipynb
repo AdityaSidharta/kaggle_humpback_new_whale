{
 "cells": [
  {
   "cell_type": "code",
   "execution_count": 1,
   "metadata": {},
   "outputs": [],
   "source": [
    "%load_ext autoreload\n",
    "%autoreload 2"
   ]
  },
  {
   "cell_type": "code",
   "execution_count": 2,
   "metadata": {},
   "outputs": [
    {
     "name": "stdout",
     "output_type": "stream",
     "text": [
      "env: PYTHONPATH=/home/adityasidharta/git/kaggle_humpback_new_whale\n",
      "env: PROJECT_PATH=/home/adityasidharta/git/kaggle_humpback_new_whale\n",
      "/home/adityasidharta/git/kaggle_humpback_new_whale\n"
     ]
    }
   ],
   "source": [
    "%env PYTHONPATH = /home/adityasidharta/git/kaggle_humpback_new_whale\n",
    "%env PROJECT_PATH = /home/adityasidharta/git/kaggle_humpback_new_whale\n",
    "%cd /home/adityasidharta/git/kaggle_humpback_new_whale"
   ]
  },
  {
   "cell_type": "code",
   "execution_count": 30,
   "metadata": {},
   "outputs": [],
   "source": [
    "%matplotlib inline\n",
    "import pandas as pd\n",
    "import numpy as np\n",
    "import matplotlib.pyplot as plt\n",
    "import torch\n",
    "import torch.nn as nn\n",
    "from torch.utils.data import DataLoader\n",
    "import os\n",
    "from sklearn.externals import joblib\n",
    "from utils.envs import *\n",
    "from utils.config import *\n",
    "from utils.common import get_label, remove_new_whale\n",
    "from model.dataset import train_transform, test_transform, TestDataset, TrainDataset"
   ]
  },
  {
   "cell_type": "code",
   "execution_count": 4,
   "metadata": {},
   "outputs": [
    {
     "data": {
      "text/plain": [
       "['/home/adityasidharta/git/kaggle_humpback_new_whale/output/artifacts/ohe_model.pkl']"
      ]
     },
     "execution_count": 4,
     "metadata": {},
     "output_type": "execute_result"
    }
   ],
   "source": [
    "train_df = pd.read_csv(train_repo)\n",
    "train_df = remove_new_whale(train_df)\n",
    "ohe_model, train_label, ohe_label = get_label(train_df)\n",
    "joblib.dump(ohe_model, os.path.join(artifacts_path, 'ohe_model.pkl'))"
   ]
  },
  {
   "cell_type": "code",
   "execution_count": 5,
   "metadata": {},
   "outputs": [],
   "source": [
    "test_label = [x for x in os.listdir(test_path) if x.endswith('.jpg')]"
   ]
  },
  {
   "cell_type": "code",
   "execution_count": 6,
   "metadata": {},
   "outputs": [],
   "source": [
    "train_dataset = TrainDataset(train_label, ohe_label, train_path, train_transform, DEVICE)\n",
    "test_dataset = TestDataset(test_label, test_path, test_transform, DEVICE)"
   ]
  },
  {
   "cell_type": "code",
   "execution_count": 7,
   "metadata": {},
   "outputs": [],
   "source": [
    "train_loader = DataLoader(train_dataset, batch_size = 32, shuffle = True, num_workers = 0)\n",
    "test_loader = DataLoader(test_dataset, batch_size = 32, shuffle = False, num_workers = 0)"
   ]
  },
  {
   "cell_type": "code",
   "execution_count": 8,
   "metadata": {
    "scrolled": true
   },
   "outputs": [],
   "source": [
    "img, label = next(iter(train_loader))"
   ]
  },
  {
   "cell_type": "code",
   "execution_count": 18,
   "metadata": {},
   "outputs": [],
   "source": [
    "data = img[0, :, :, :].data.cpu().numpy()"
   ]
  },
  {
   "cell_type": "code",
   "execution_count": 55,
   "metadata": {},
   "outputs": [],
   "source": [
    "fake = torch.rand((1, 16, 120, 120))"
   ]
  },
  {
   "cell_type": "code",
   "execution_count": 60,
   "metadata": {},
   "outputs": [],
   "source": [
    "class SEModule(nn.Module):\n",
    "\n",
    "    def __init__(self, channels, reduction):\n",
    "        super(SEModule, self).__init__()\n",
    "        self.avg_pool = nn.AdaptiveAvgPool2d(1)\n",
    "        self.fc1 = nn.Conv2d(channels, channels // reduction, kernel_size=1,\n",
    "                             padding=0)\n",
    "        self.relu = nn.ReLU(inplace=True)\n",
    "        self.fc2 = nn.Conv2d(channels // reduction, channels, kernel_size=1,\n",
    "                             padding=0)\n",
    "        self.sigmoid = nn.Sigmoid()\n",
    "\n",
    "    def forward(self, x):\n",
    "        module_input = x\n",
    "        print(x.shape)\n",
    "        x = self.avg_pool(x)\n",
    "        print(x.shape)\n",
    "        x = self.fc1(x)\n",
    "        print(x.shape)\n",
    "        x = self.relu(x)\n",
    "        print(x.shape)\n",
    "        x = self.fc2(x)\n",
    "        print(x.shape)\n",
    "        x = self.sigmoid(x)\n",
    "        print(x.shape)\n",
    "        return x\n"
   ]
  },
  {
   "cell_type": "code",
   "execution_count": 61,
   "metadata": {},
   "outputs": [],
   "source": [
    "model = SEModule(16, 2)"
   ]
  },
  {
   "cell_type": "code",
   "execution_count": 63,
   "metadata": {},
   "outputs": [
    {
     "name": "stdout",
     "output_type": "stream",
     "text": [
      "torch.Size([1, 16, 120, 120])\n",
      "torch.Size([1, 16, 1, 1])\n",
      "torch.Size([1, 8, 1, 1])\n",
      "torch.Size([1, 8, 1, 1])\n",
      "torch.Size([1, 16, 1, 1])\n",
      "torch.Size([1, 16, 1, 1])\n"
     ]
    },
    {
     "data": {
      "text/plain": [
       "tensor([[[[0.5292]],\n",
       "\n",
       "         [[0.4885]],\n",
       "\n",
       "         [[0.4747]],\n",
       "\n",
       "         [[0.5130]],\n",
       "\n",
       "         [[0.4301]],\n",
       "\n",
       "         [[0.4864]],\n",
       "\n",
       "         [[0.4511]],\n",
       "\n",
       "         [[0.5570]],\n",
       "\n",
       "         [[0.4166]],\n",
       "\n",
       "         [[0.5966]],\n",
       "\n",
       "         [[0.4400]],\n",
       "\n",
       "         [[0.6144]],\n",
       "\n",
       "         [[0.4449]],\n",
       "\n",
       "         [[0.5164]],\n",
       "\n",
       "         [[0.5703]],\n",
       "\n",
       "         [[0.5978]]]], grad_fn=<SigmoidBackward>)"
      ]
     },
     "execution_count": 63,
     "metadata": {},
     "output_type": "execute_result"
    }
   ],
   "source": [
    "model(fake)"
   ]
  },
  {
   "cell_type": "code",
   "execution_count": 25,
   "metadata": {},
   "outputs": [
    {
     "name": "stderr",
     "output_type": "stream",
     "text": [
      "WARNING:matplotlib.image:Clipping input data to the valid range for imshow with RGB data ([0..1] for floats or [0..255] for integers).\n"
     ]
    },
    {
     "data": {
      "text/plain": [
       "<matplotlib.image.AxesImage at 0x7fd6148ce400>"
      ]
     },
     "execution_count": 25,
     "metadata": {},
     "output_type": "execute_result"
    },
    {
     "data": {
      "image/png": "[encoded data removed]",
      "text/plain": [
       "<Figure size 432x288 with 1 Axes>"
      ]
     },
     "metadata": {
      "needs_background": "light"
     },
     "output_type": "display_data"
    }
   ],
   "source": [
    "plt.imshow(np.moveaxis(data, 0, -1))"
   ]
  },
  {
   "cell_type": "code",
   "execution_count": null,
   "metadata": {},
   "outputs": [],
   "source": []
  }
 ],
 "metadata": {
  "kernelspec": {
   "display_name": "ml_server_framework",
   "language": "python",
   "name": "ml_server_framework"
  },
  "language_info": {
   "codemirror_mode": {
    "name": "ipython",
    "version": 3
   },
   "file_extension": ".py",
   "mimetype": "text/x-python",
   "name": "python",
   "nbconvert_exporter": "python",
   "pygments_lexer": "ipython3",
   "version": "3.6.7"
  }
 },
 "nbformat": 4,
 "nbformat_minor": 2
}
